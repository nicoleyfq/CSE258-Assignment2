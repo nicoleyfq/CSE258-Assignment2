{
 "cells": [
  {
   "cell_type": "code",
   "execution_count": 1,
   "id": "d5c7c617",
   "metadata": {},
   "outputs": [],
   "source": [
    "#similarity\n",
    "\n",
    "import gzip\n",
    "import json\n",
    "import numpy\n",
    "import random\n",
    "from collections import defaultdict\n",
    "from gensim.models import Word2Vec\n",
    "\n",
    "def readCSV(path):\n",
    "    f = gzip.open(path, 'rt')\n",
    "    for l in f:\n",
    "        d = json.loads(l)\n",
    "        if d['rating'] != None:\n",
    "            yield d['user_id'], d['item_id'], int(d['rating']), d\n",
    "\n",
    "data = []\n",
    "for user, item, rating, d in readCSV('renttherunway_final_data.json.gz'):\n",
    "    d = {'user_id':user, 'item_id':item, 'rating':rating}\n",
    "    data.append(d)\n"
   ]
  },
  {
   "cell_type": "code",
   "execution_count": 2,
   "id": "75013187",
   "metadata": {},
   "outputs": [
    {
     "data": {
      "text/plain": [
       "{'user_id': '420272', 'item_id': '2260466', 'rating': 10}"
      ]
     },
     "execution_count": 2,
     "metadata": {},
     "output_type": "execute_result"
    }
   ],
   "source": [
    "data[0]"
   ]
  },
  {
   "cell_type": "code",
   "execution_count": 3,
   "id": "ca1e3937",
   "metadata": {},
   "outputs": [],
   "source": [
    "usersPerItem = defaultdict(set) # Maps an item to the users who rated it\n",
    "itemsPerUser = defaultdict(set) # Maps a user to the items that they rated\n",
    "ratingDict = {} # To retrieve a rating for a specific user/item pair\n",
    "\n",
    "for d in data:\n",
    "    user,item = d['user_id'], d['item_id']\n",
    "    usersPerItem[item].add(user)\n",
    "    itemsPerUser[user].add(item)\n",
    "    ratingDict[(user,item)] = d['rating']"
   ]
  },
  {
   "cell_type": "code",
   "execution_count": 4,
   "id": "2a4c1018",
   "metadata": {},
   "outputs": [
    {
     "data": {
      "text/plain": [
       "9.092371481123546"
      ]
     },
     "execution_count": 4,
     "metadata": {},
     "output_type": "execute_result"
    }
   ],
   "source": [
    "ratingMean = sum([d['rating'] for d in data]) / len(data)\n",
    "ratingMean"
   ]
  },
  {
   "cell_type": "code",
   "execution_count": 5,
   "id": "e8295c9e",
   "metadata": {},
   "outputs": [],
   "source": [
    "userAverages = {}\n",
    "itemAverages = {}\n",
    "\n",
    "for u in itemsPerUser:\n",
    "    rs = [ratingDict[(u,i)] for i in itemsPerUser[u]]\n",
    "    userAverages[u] = sum(rs) / len(rs)\n",
    "    \n",
    "for i in usersPerItem:\n",
    "    rs = [ratingDict[(u,i)] for u in usersPerItem[i]]\n",
    "    itemAverages[i] = sum(rs) / len(rs)"
   ]
  },
  {
   "cell_type": "code",
   "execution_count": 10,
   "id": "3b7580f1",
   "metadata": {},
   "outputs": [],
   "source": [
    "reviewsPerUser = defaultdict(list)\n",
    "reviewsPerItem = defaultdict(list)"
   ]
  },
  {
   "cell_type": "code",
   "execution_count": 11,
   "id": "1cdaacad",
   "metadata": {},
   "outputs": [],
   "source": [
    "for d in data:\n",
    "    user,item = d['user_id'], d['item_id']\n",
    "    reviewsPerUser[user].append(d)\n",
    "    reviewsPerItem[item].append(d)"
   ]
  },
  {
   "cell_type": "code",
   "execution_count": 13,
   "id": "b51e0f90",
   "metadata": {},
   "outputs": [],
   "source": [
    "def Jaccard(s1, s2):\n",
    "    numer = len(s1.intersection(s2))\n",
    "    denom = len(s1.union(s2))\n",
    "    if denom == 0:\n",
    "        return 0\n",
    "    return numer / denom"
   ]
  },
  {
   "cell_type": "code",
   "execution_count": 17,
   "id": "795d0468",
   "metadata": {},
   "outputs": [],
   "source": [
    "def predictRating1(user,item):\n",
    "    ratings = []\n",
    "    similarities = []\n",
    "    for d in reviewsPerUser[user]:\n",
    "        i2 = d['item_id']\n",
    "        if i2 == item: continue\n",
    "        ratings.append(d['rating'])\n",
    "        similarities.append(Jaccard(usersPerItem[item],usersPerItem[i2]))\n",
    "    if (sum(similarities) > 0):\n",
    "        weightedRatings = [(x*y) for x,y in zip(ratings,similarities)]\n",
    "        return sum(weightedRatings) / sum(similarities)\n",
    "    else:\n",
    "        return ratingMean"
   ]
  },
  {
   "cell_type": "code",
   "execution_count": 18,
   "id": "6759612e",
   "metadata": {},
   "outputs": [],
   "source": [
    "def predictRating2(user,item):\n",
    "    ratings = []\n",
    "    similarities = []\n",
    "    for d in reviewsPerItem[item]:\n",
    "        u2 = d['user_id']\n",
    "        if u2 == user: continue\n",
    "        ratings.append(d['rating'])\n",
    "        similarities.append(Jaccard(itemsPerUser[user],itemsPerUser[u2]))\n",
    "    if (sum(similarities) > 0):\n",
    "        weightedRatings = [(x*y) for x,y in zip(ratings,similarities)]\n",
    "        return sum(weightedRatings) / sum(similarities)\n",
    "    else:\n",
    "        return ratingMean"
   ]
  },
  {
   "cell_type": "code",
   "execution_count": 19,
   "id": "4b04fc9e",
   "metadata": {},
   "outputs": [],
   "source": [
    "def predictRating3(user,item):\n",
    "    ratings = []\n",
    "    similarities = []\n",
    "    for d in reviewsPerUser[user]:\n",
    "        i2 = d['item_id']\n",
    "        if i2 == item: continue\n",
    "        ratings.append(d['rating'] - itemAverages[i2])\n",
    "        similarities.append(Jaccard(usersPerItem[item],usersPerItem[i2]))\n",
    "    if (sum(similarities) > 0):\n",
    "        weightedRatings = [(x*y) for x,y in zip(ratings,similarities)]\n",
    "        return itemAverages[item] + sum(weightedRatings) / sum(similarities)\n",
    "    else:\n",
    "        return ratingMean"
   ]
  },
  {
   "cell_type": "code",
   "execution_count": 20,
   "id": "9e92de04",
   "metadata": {},
   "outputs": [],
   "source": [
    "def MSE(predictions, labels):\n",
    "    differences = [(x-y)**2 for x,y in zip(predictions,labels)]\n",
    "    return sum(differences) / len(differences)"
   ]
  },
  {
   "cell_type": "code",
   "execution_count": 21,
   "id": "fdc0722d",
   "metadata": {},
   "outputs": [],
   "source": [
    "alwaysPredictMean = [ratingMean for d in data]"
   ]
  },
  {
   "cell_type": "code",
   "execution_count": 22,
   "id": "f466e311",
   "metadata": {},
   "outputs": [],
   "source": [
    "labels = [d['rating'] for d in data]"
   ]
  },
  {
   "cell_type": "code",
   "execution_count": 23,
   "id": "fd17471f",
   "metadata": {},
   "outputs": [
    {
     "data": {
      "text/plain": [
       "2.0450157423723705"
      ]
     },
     "execution_count": 23,
     "metadata": {},
     "output_type": "execute_result"
    }
   ],
   "source": [
    "MSE(alwaysPredictMean, labels)"
   ]
  },
  {
   "cell_type": "code",
   "execution_count": 25,
   "id": "2689e466",
   "metadata": {},
   "outputs": [],
   "source": [
    "simPredictions1 = [predictRating1(d['user_id'], d['item_id']) for d in data]\n",
    "simPredictions2 = [predictRating2(d['user_id'], d['item_id']) for d in data]\n",
    "simPredictions3 = [predictRating3(d['user_id'], d['item_id']) for d in data]"
   ]
  },
  {
   "cell_type": "code",
   "execution_count": 26,
   "id": "4037464c",
   "metadata": {},
   "outputs": [
    {
     "data": {
      "text/plain": [
       "2.5007756551257687"
      ]
     },
     "execution_count": 26,
     "metadata": {},
     "output_type": "execute_result"
    }
   ],
   "source": [
    "MSE(simPredictions1, labels)"
   ]
  },
  {
   "cell_type": "code",
   "execution_count": 27,
   "id": "748cf19a",
   "metadata": {},
   "outputs": [
    {
     "data": {
      "text/plain": [
       "2.0091934934607543"
      ]
     },
     "execution_count": 27,
     "metadata": {},
     "output_type": "execute_result"
    }
   ],
   "source": [
    "MSE(simPredictions2, labels)"
   ]
  },
  {
   "cell_type": "code",
   "execution_count": 28,
   "id": "4730aa93",
   "metadata": {},
   "outputs": [
    {
     "data": {
      "text/plain": [
       "2.3346205467721846"
      ]
     },
     "execution_count": 28,
     "metadata": {},
     "output_type": "execute_result"
    }
   ],
   "source": [
    "MSE(simPredictions3, labels)"
   ]
  },
  {
   "cell_type": "code",
   "execution_count": 41,
   "id": "003cffc4",
   "metadata": {},
   "outputs": [],
   "source": [
    "#item2vec\n",
    "\n",
    "import gzip\n",
    "import json\n",
    "import numpy\n",
    "import random\n",
    "from collections import defaultdict\n",
    "from gensim.models import Word2Vec\n",
    "\n",
    "def readCSV(path):\n",
    "    f = gzip.open(path, 'rt')\n",
    "    for l in f:\n",
    "        d = json.loads(l)\n",
    "        if d['rating'] != None:\n",
    "            yield d['user_id'], d['item_id'], d['review_text'], int(d['rating']), d\n",
    "\n",
    "dataset = []\n",
    "for user, item, review_text, rating, d in readCSV('renttherunway_final_data.json.gz'):\n",
    "    d = {'user_id':user, 'item_id':item, 'review':review_text, 'rating':rating}\n",
    "    dataset.append(d)\n"
   ]
  },
  {
   "cell_type": "code",
   "execution_count": 20,
   "id": "6932fca0",
   "metadata": {},
   "outputs": [
    {
     "data": {
      "text/plain": [
       "{'user_id': '420272',\n",
       " 'item_id': '2260466',\n",
       " 'review': \"An adorable romper! Belt and zipper were a little hard to navigate in a full day of wear/bathroom use, but that's to be expected. Wish it had pockets, but other than that-- absolutely perfect! I got a million compliments.\",\n",
       " 'rating': 10}"
      ]
     },
     "execution_count": 20,
     "metadata": {},
     "output_type": "execute_result"
    }
   ],
   "source": [
    "dataset[0]"
   ]
  },
  {
   "cell_type": "code",
   "execution_count": 78,
   "id": "0f97f5a2",
   "metadata": {},
   "outputs": [],
   "source": [
    "itemAverages = defaultdict(list)\n",
    "reviewsPerUser = defaultdict(list)\n",
    "    \n",
    "for d in dataset:\n",
    "    i = d['item_id']\n",
    "    u = d['user_id']\n",
    "    itemAverages[i].append(d['rating'])\n",
    "    reviewsPerUser[d['user_id']].append((d['review'], d['item_id']))\n",
    "    \n",
    "for i in itemAverages:\n",
    "    itemAverages[i] = sum(itemAverages[i]) / len(itemAverages[i])"
   ]
  },
  {
   "cell_type": "code",
   "execution_count": 79,
   "id": "9afea800",
   "metadata": {},
   "outputs": [],
   "source": [
    "reviewLists = []\n",
    "for u in reviewsPerUser:\n",
    "    rl = list(reviewsPerUser[u])\n",
    "    rl.sort()\n",
    "    reviewLists.append([x[1] for x in rl])"
   ]
  },
  {
   "cell_type": "code",
   "execution_count": 80,
   "id": "ac49a6f3",
   "metadata": {},
   "outputs": [
    {
     "data": {
      "text/plain": [
       "['1083818', '2260466', '348662', '2431951', '2340996', '2363191']"
      ]
     },
     "execution_count": 80,
     "metadata": {},
     "output_type": "execute_result"
    }
   ],
   "source": [
    "reviewLists[0]"
   ]
  },
  {
   "cell_type": "code",
   "execution_count": 114,
   "id": "cc1ac846",
   "metadata": {},
   "outputs": [],
   "source": [
    "model10 = Word2Vec(reviewLists,\n",
    "                 min_count=8, # Words/items with fewer instances are discarded\n",
    "                 #size=10, # Model dimensionality\n",
    "                 window=3, # Window size\n",
    "                 sg=1) # Skip-gram model"
   ]
  },
  {
   "cell_type": "code",
   "execution_count": 115,
   "id": "4d9cdbed",
   "metadata": {},
   "outputs": [],
   "source": [
    "itemAverages = defaultdict(list)\n",
    "reviewsPerUser = defaultdict(list)\n",
    "    \n",
    "for d in dataset:\n",
    "    i = d['item_id']\n",
    "    u = d['user_id']\n",
    "    itemAverages[i].append(d['rating'])\n",
    "    reviewsPerUser[u].append(d)\n",
    "    \n",
    "for i in itemAverages:\n",
    "    itemAverages[i] = sum(itemAverages[i]) / len(itemAverages[i])"
   ]
  },
  {
   "cell_type": "code",
   "execution_count": 116,
   "id": "2edaa2b7",
   "metadata": {},
   "outputs": [],
   "source": [
    "def predictRating(user,item):\n",
    "    ratings = []\n",
    "    similarities = []\n",
    "    if not str(item) in model10.wv:\n",
    "        return ratingMean\n",
    "    for d in reviewsPerUser[user]:\n",
    "        i2 = d['item_id']\n",
    "        if i2 == item: continue\n",
    "        ratings.append(d['rating'] - itemAverages[i2])\n",
    "        if str(i2) in model10.wv:\n",
    "            similarities.append(model10.wv.distance(str(item), str(i2)))\n",
    "    if (sum(similarities) > 0):\n",
    "        weightedRatings = [(x*y) for x,y in zip(ratings,similarities)]\n",
    "        return itemAverages[item] + sum(weightedRatings) / sum(similarities)\n",
    "    else:\n",
    "        return ratingMean"
   ]
  },
  {
   "cell_type": "code",
   "execution_count": 117,
   "id": "4a99fb35",
   "metadata": {},
   "outputs": [],
   "source": [
    "predictions = [predictRating(d['user_id'],d['item_id']) for d in dataset]"
   ]
  },
  {
   "cell_type": "code",
   "execution_count": 118,
   "id": "e5746b8d",
   "metadata": {},
   "outputs": [
    {
     "data": {
      "text/plain": [
       "2.3824298115265954"
      ]
     },
     "execution_count": 118,
     "metadata": {},
     "output_type": "execute_result"
    }
   ],
   "source": [
    "MSE(predictions, labels)"
   ]
  },
  {
   "cell_type": "code",
   "execution_count": null,
   "id": "41114186",
   "metadata": {},
   "outputs": [],
   "source": []
  }
 ],
 "metadata": {
  "kernelspec": {
   "display_name": "Python 3",
   "language": "python",
   "name": "python3"
  },
  "language_info": {
   "codemirror_mode": {
    "name": "ipython",
    "version": 3
   },
   "file_extension": ".py",
   "mimetype": "text/x-python",
   "name": "python",
   "nbconvert_exporter": "python",
   "pygments_lexer": "ipython3",
   "version": "3.8.8"
  }
 },
 "nbformat": 4,
 "nbformat_minor": 5
}
