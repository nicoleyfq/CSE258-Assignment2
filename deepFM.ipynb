{
  "nbformat": 4,
  "nbformat_minor": 0,
  "metadata": {
    "kernelspec": {
      "display_name": "Python 3",
      "language": "python",
      "name": "python3"
    },
    "language_info": {
      "codemirror_mode": {
        "name": "ipython",
        "version": 3
      },
      "file_extension": ".py",
      "mimetype": "text/x-python",
      "name": "python",
      "nbconvert_exporter": "python",
      "pygments_lexer": "ipython3",
      "version": "3.8.3"
    },
    "colab": {
      "name": "Assignment2.ipynb",
      "provenance": [],
      "collapsed_sections": []
    },
    "accelerator": "GPU"
  },
  "cells": [
    {
      "cell_type": "code",
      "metadata": {
        "id": "ikXtgL4ZJlxw"
      },
      "source": [
        "import numpy as np\n",
        "import pandas as pd\n",
        "import gzip\n",
        "import torch\n",
        "from torch.optim import Adagrad,Adam\n",
        "from matplotlib import pyplot as plt\n",
        "from sklearn.metrics import mean_squared_error,accuracy_score\n",
        "from sklearn.model_selection import train_test_split\n",
        "from sklearn.preprocessing import LabelEncoder,OneHotEncoder\n",
        "from sklearn.metrics import mean_squared_error\n",
        "from deepctr_torch.inputs import SparseFeat, get_feature_names\n",
        "from deepctr_torch.models import DeepFM"
      ],
      "execution_count": 248,
      "outputs": []
    },
    {
      "cell_type": "code",
      "metadata": {
        "id": "_rxhZQG-Jlxx"
      },
      "source": [
        "def parse(path):\n",
        "    g = gzip.open(path, 'r')\n",
        "    for l in g:\n",
        "        try:\n",
        "            yield eval(l)\n",
        "        except:\n",
        "            pass\n",
        "\n",
        "def convert_height(x):\n",
        "  '''\n",
        "  convert hight from feet-inches format to cm\n",
        "  if nan, return 165\n",
        "  '''\n",
        "  try:\n",
        "    h_ft,temp = x.split(\"'\")\n",
        "    h_inch,_ = temp.split('\"')\n",
        "    #print(h_inch,h_ft)\n",
        "    h_inch = float(h_inch)\n",
        "    h_ft = float(h_ft)\n",
        "    h_inch += h_ft * 12\n",
        "    h_cm = round(h_inch * 2.54, 1)\n",
        "  except:\n",
        "    h_cm = 165\n",
        "  return h_cm\n",
        "\n",
        "def import_data(path):\n",
        "  '''\n",
        "  import data and convert to pandas dataframe\n",
        "  '''\n",
        "  data_dict = list(parse(path))\n",
        "  data = pd.DataFrame(data_dict)\n",
        "  print(len(data))\n",
        "  return data\n",
        "\n",
        "def feature_transformation(data):\n",
        "  '''\n",
        "  applying feature_transformation to dense features\n",
        "  1. convert weight to numeric\n",
        "  2. convert height to cm\n",
        "  2. bucketing all numeric features\n",
        "  '''\n",
        "  data['weight'] = data['weight'].str.replace('lbs','')\n",
        "  data['height'] = data.height.apply(lambda row: convert_height(row))\n",
        "  # data['fit'] = data['fit'].str.replace('fit','1')\n",
        "  # data['fit'] = data['fit'].str.replace('small','0')\n",
        "  # data['fit'] = data['fit'].str.replace('large','0')\n",
        "  data[[\"weight\", \"age\",\"rating\"]] = data[[\"weight\", \"age\",\"rating\"]].apply(pd.to_numeric)\n",
        "  data['age'] = pd.cut(data.age,bins=[0,2,17,65,99],labels=['Toddler/Baby','Child','Adult','Elderly'])\n",
        "  data['weight'] = pd.cut(data.weight,bins=[0,50,125,200],labels=['low','medium','high'])\n",
        "  data['size'] = pd.cut(data['size'],bins=[0,15,30,60],labels=['low','medium','high'])\n",
        "  data['height'] = pd.cut(data['height'],bins=[0,169,185,200],labels=['low','medium','high'])\n",
        "  return data"
      ],
      "execution_count": 249,
      "outputs": []
    },
    {
      "cell_type": "code",
      "metadata": {
        "id": "LdP3qKRMVtjV",
        "outputId": "d233e586-64b2-4770-89d6-364d0e2e027b",
        "colab": {
          "base_uri": "https://localhost:8080/",
          "height": 221
        }
      },
      "source": [
        "data_original = import_data('renttherunway_final_data.json.gz') # import data as pandas dataframe\n",
        "#data = feature_transformation(data_original) # applying feature transformation\n",
        "data.head()"
      ],
      "execution_count": 262,
      "outputs": [
        {
          "output_type": "stream",
          "name": "stdout",
          "text": [
            "192462\n"
          ]
        },
        {
          "output_type": "execute_result",
          "data": {
            "text/html": [
              "<div>\n",
              "<style scoped>\n",
              "    .dataframe tbody tr th:only-of-type {\n",
              "        vertical-align: middle;\n",
              "    }\n",
              "\n",
              "    .dataframe tbody tr th {\n",
              "        vertical-align: top;\n",
              "    }\n",
              "\n",
              "    .dataframe thead th {\n",
              "        text-align: right;\n",
              "    }\n",
              "</style>\n",
              "<table border=\"1\" class=\"dataframe\">\n",
              "  <thead>\n",
              "    <tr style=\"text-align: right;\">\n",
              "      <th></th>\n",
              "      <th>fit</th>\n",
              "      <th>user_id</th>\n",
              "      <th>bust size</th>\n",
              "      <th>item_id</th>\n",
              "      <th>weight</th>\n",
              "      <th>rating</th>\n",
              "      <th>rented for</th>\n",
              "      <th>review_text</th>\n",
              "      <th>body type</th>\n",
              "      <th>review_summary</th>\n",
              "      <th>category</th>\n",
              "      <th>height</th>\n",
              "      <th>size</th>\n",
              "      <th>age</th>\n",
              "      <th>review_date</th>\n",
              "    </tr>\n",
              "  </thead>\n",
              "  <tbody>\n",
              "    <tr>\n",
              "      <th>0</th>\n",
              "      <td>fit</td>\n",
              "      <td>420272</td>\n",
              "      <td>34d</td>\n",
              "      <td>2260466</td>\n",
              "      <td>high</td>\n",
              "      <td>10</td>\n",
              "      <td>vacation</td>\n",
              "      <td>An adorable romper! Belt and zipper were a lit...</td>\n",
              "      <td>hourglass</td>\n",
              "      <td>So many compliments!</td>\n",
              "      <td>romper</td>\n",
              "      <td>medium</td>\n",
              "      <td>low</td>\n",
              "      <td>Adult</td>\n",
              "      <td>April 20, 2016</td>\n",
              "    </tr>\n",
              "    <tr>\n",
              "      <th>1</th>\n",
              "      <td>fit</td>\n",
              "      <td>273551</td>\n",
              "      <td>34b</td>\n",
              "      <td>153475</td>\n",
              "      <td>high</td>\n",
              "      <td>10</td>\n",
              "      <td>other</td>\n",
              "      <td>I rented this dress for a photo shoot. The the...</td>\n",
              "      <td>straight &amp; narrow</td>\n",
              "      <td>I felt so glamourous!!!</td>\n",
              "      <td>gown</td>\n",
              "      <td>low</td>\n",
              "      <td>low</td>\n",
              "      <td>Adult</td>\n",
              "      <td>June 18, 2013</td>\n",
              "    </tr>\n",
              "    <tr>\n",
              "      <th>2</th>\n",
              "      <td>fit</td>\n",
              "      <td>360448</td>\n",
              "      <td>NaN</td>\n",
              "      <td>1063761</td>\n",
              "      <td>NaN</td>\n",
              "      <td>10</td>\n",
              "      <td>party</td>\n",
              "      <td>This hugged in all the right places! It was a ...</td>\n",
              "      <td>NaN</td>\n",
              "      <td>It was a great time to celebrate the (almost) ...</td>\n",
              "      <td>sheath</td>\n",
              "      <td>low</td>\n",
              "      <td>low</td>\n",
              "      <td>NaN</td>\n",
              "      <td>December 14, 2015</td>\n",
              "    </tr>\n",
              "    <tr>\n",
              "      <th>3</th>\n",
              "      <td>fit</td>\n",
              "      <td>909926</td>\n",
              "      <td>34c</td>\n",
              "      <td>126335</td>\n",
              "      <td>high</td>\n",
              "      <td>8</td>\n",
              "      <td>formal affair</td>\n",
              "      <td>I rented this for my company's black tie award...</td>\n",
              "      <td>pear</td>\n",
              "      <td>Dress arrived on time and in perfect condition.</td>\n",
              "      <td>dress</td>\n",
              "      <td>low</td>\n",
              "      <td>low</td>\n",
              "      <td>Adult</td>\n",
              "      <td>February 12, 2014</td>\n",
              "    </tr>\n",
              "    <tr>\n",
              "      <th>4</th>\n",
              "      <td>fit</td>\n",
              "      <td>151944</td>\n",
              "      <td>34b</td>\n",
              "      <td>616682</td>\n",
              "      <td>high</td>\n",
              "      <td>10</td>\n",
              "      <td>wedding</td>\n",
              "      <td>I have always been petite in my upper body and...</td>\n",
              "      <td>athletic</td>\n",
              "      <td>Was in love with this dress !!!</td>\n",
              "      <td>gown</td>\n",
              "      <td>medium</td>\n",
              "      <td>low</td>\n",
              "      <td>Adult</td>\n",
              "      <td>September 26, 2016</td>\n",
              "    </tr>\n",
              "  </tbody>\n",
              "</table>\n",
              "</div>"
            ],
            "text/plain": [
              "   fit user_id bust size  item_id  ...  height  size    age         review_date\n",
              "0  fit  420272       34d  2260466  ...  medium   low  Adult      April 20, 2016\n",
              "1  fit  273551       34b   153475  ...     low   low  Adult       June 18, 2013\n",
              "2  fit  360448       NaN  1063761  ...     low   low    NaN   December 14, 2015\n",
              "3  fit  909926       34c   126335  ...     low   low  Adult   February 12, 2014\n",
              "4  fit  151944       34b   616682  ...  medium   low  Adult  September 26, 2016\n",
              "\n",
              "[5 rows x 15 columns]"
            ]
          },
          "metadata": {},
          "execution_count": 262
        }
      ]
    },
    {
      "cell_type": "code",
      "metadata": {
        "id": "_ZUSl9EFlfdX",
        "outputId": "2202c204-e7bd-41c7-a8d5-d2fcebaeeba2",
        "colab": {
          "base_uri": "https://localhost:8080/"
        }
      },
      "source": [
        "data.rating.count()"
      ],
      "execution_count": 266,
      "outputs": [
        {
          "output_type": "execute_result",
          "data": {
            "text/plain": [
              "192462"
            ]
          },
          "metadata": {},
          "execution_count": 266
        }
      ]
    },
    {
      "cell_type": "code",
      "metadata": {
        "id": "boHJ7KITVQM9",
        "outputId": "d43c37ee-0080-4491-c213-9e3a6a125854",
        "colab": {
          "base_uri": "https://localhost:8080/",
          "height": 333
        }
      },
      "source": [
        "# visualize data distributioon\n",
        "# data['rating'] = np.log(data['rating']+2)\n",
        "# data[['rating','weight']]=scaler.transform(data[['rating','weight']])\n",
        "import matplotlib.pyplot as plt\n",
        "data_original['weight'] = data_original['weight'].str.replace('lbs','')\n",
        "\n",
        "plt.hist(data['rating'], density=False, bins=10)"
      ],
      "execution_count": 268,
      "outputs": [
        {
          "output_type": "execute_result",
          "data": {
            "text/plain": [
              "(array([  1046.,      0.,   2791.,      0.,      0.,  10697.,      0.,\n",
              "         53391.,      0., 124537.]),\n",
              " array([ 2. ,  2.8,  3.6,  4.4,  5.2,  6. ,  6.8,  7.6,  8.4,  9.2, 10. ]),\n",
              " <a list of 10 Patch objects>)"
            ]
          },
          "metadata": {},
          "execution_count": 268
        },
        {
          "output_type": "display_data",
          "data": {
            "image/png": "[encoded data removed]",
            "text/plain": [
              "<Figure size 432x288 with 1 Axes>"
            ]
          },
          "metadata": {
            "needs_background": "light"
          }
        }
      ]
    },
    {
      "cell_type": "markdown",
      "metadata": {
        "id": "4jiduTYeKvHm"
      },
      "source": [
        "# DeepFM"
      ]
    },
    {
      "cell_type": "code",
      "metadata": {
        "colab": {
          "base_uri": "https://localhost:8080/"
        },
        "id": "jeUrxwkJPUsv",
        "outputId": "27554ea2-19a9-4a9f-8a84-d422a54db745"
      },
      "source": [
        "# using PyTorch version of DeepCTR\n",
        "def train_deepFM():\n",
        "  sparse_features = [\"item_id\", \"user_id\",\n",
        "                  \"age\", \"size\", \"weight\",'bust size','height','category','fit']\n",
        "  target = ['rating']\n",
        "\n",
        "  # 1.Label Encoding for sparse features,and do simple Transformation for dense features\n",
        "  for feat in sparse_features:\n",
        "      lbe = LabelEncoder()\n",
        "      data[feat] = lbe.fit_transform(data[feat])\n",
        "  # 2.count #unique features for each sparse field\n",
        "  fixlen_feature_columns = [SparseFeat(feat, data[feat].nunique())\n",
        "                            for feat in sparse_features]\n",
        "  linear_feature_columns = fixlen_feature_columns[:2]\n",
        "  dnn_feature_columns = fixlen_feature_columns[2:]\n",
        "  feature_names = get_feature_names(linear_feature_columns + dnn_feature_columns)\n",
        "\n",
        "  # 3.generate input data for model\n",
        "  train, test = train_test_split(data, test_size=0.2,random_state=666)\n",
        "  train_model_input = {name: train[name] for name in feature_names}\n",
        "  test_model_input = {name: test[name] for name in feature_names}\n",
        "  # 4.Define Model,train,predict and evaluate\n",
        "\n",
        "  device = 'cuda'\n",
        "  use_cuda = True\n",
        "  if use_cuda and torch.cuda.is_available():\n",
        "      print('cuda ready...')\n",
        "      device = 'cuda:0'\n",
        "\n",
        "  model = DeepFM(linear_feature_columns, dnn_feature_columns, dnn_hidden_units=(16,8),\n",
        "                  l2_reg_linear = 0.15,l2_reg_embedding = 0.15,l2_reg_dnn = 0.25,dnn_dropout = 0.1,\n",
        "                  task='regression', device=device)\n",
        "  model.compile(Adam(model.parameters(),0.001), \"mse\",metrics=['mse'])\n",
        "  history = model.fit(train_model_input,train[target].values,batch_size=512,epochs=30,verbose=2,validation_split=0.2)\n",
        "  pred_ans = model.predict(test_model_input, batch_size=512)\n",
        "  print(\"test MSE\", round(mean_squared_error(\n",
        "      test[target].values, pred_ans), 4))\n",
        "  return history,model,pred_ans\n",
        "\n",
        "\n",
        "history,model,pred_ans = train_deepFM()"
      ],
      "execution_count": 242,
      "outputs": [
        {
          "output_type": "stream",
          "name": "stdout",
          "text": [
            "cuda ready...\n",
            "cuda:0\n",
            "Train on 123175 samples, validate on 30794 samples, 241 steps per epoch\n",
            "Epoch 1/30\n",
            "3s - loss:  33.2685 - mse:  33.2076 - val_mse:  2.0358\n",
            "Epoch 2/30\n",
            "3s - loss:  1.9283 - mse:  1.9127 - val_mse:  1.9375\n",
            "Epoch 3/30\n",
            "3s - loss:  1.8864 - mse:  1.8692 - val_mse:  1.9239\n",
            "Epoch 4/30\n",
            "3s - loss:  1.8685 - mse:  1.8478 - val_mse:  1.9151\n",
            "Epoch 5/30\n",
            "3s - loss:  1.8542 - mse:  1.8293 - val_mse:  1.9063\n",
            "Epoch 6/30\n",
            "3s - loss:  1.8418 - mse:  1.8126 - val_mse:  1.8991\n",
            "Epoch 7/30\n",
            "3s - loss:  1.8314 - mse:  1.7976 - val_mse:  1.8929\n",
            "Epoch 8/30\n",
            "3s - loss:  1.8226 - mse:  1.7834 - val_mse:  1.8884\n",
            "Epoch 9/30\n",
            "3s - loss:  1.8153 - mse:  1.7724 - val_mse:  1.8842\n",
            "Epoch 10/30\n",
            "3s - loss:  1.8101 - mse:  1.7614 - val_mse:  1.8780\n",
            "Epoch 11/30\n",
            "3s - loss:  1.8045 - mse:  1.7526 - val_mse:  1.8742\n",
            "Epoch 12/30\n",
            "3s - loss:  1.8010 - mse:  1.7443 - val_mse:  1.8705\n",
            "Epoch 13/30\n",
            "3s - loss:  1.7983 - mse:  1.7378 - val_mse:  1.8688\n",
            "Epoch 14/30\n",
            "3s - loss:  1.7956 - mse:  1.7315 - val_mse:  1.8701\n",
            "Epoch 15/30\n",
            "3s - loss:  1.7943 - mse:  1.7285 - val_mse:  1.8701\n",
            "Epoch 16/30\n",
            "3s - loss:  1.7928 - mse:  1.7236 - val_mse:  1.8622\n",
            "Epoch 17/30\n",
            "3s - loss:  1.7919 - mse:  1.7205 - val_mse:  1.8609\n",
            "Epoch 18/30\n",
            "3s - loss:  1.7919 - mse:  1.7181 - val_mse:  1.8594\n",
            "Epoch 19/30\n",
            "3s - loss:  1.7899 - mse:  1.7147 - val_mse:  1.8583\n",
            "Epoch 20/30\n",
            "3s - loss:  1.7902 - mse:  1.7136 - val_mse:  1.8649\n",
            "Epoch 21/30\n",
            "3s - loss:  1.7889 - mse:  1.7110 - val_mse:  1.8623\n",
            "Epoch 22/30\n",
            "3s - loss:  1.7887 - mse:  1.7101 - val_mse:  1.8576\n",
            "Epoch 23/30\n",
            "3s - loss:  1.7894 - mse:  1.7098 - val_mse:  1.8586\n",
            "Epoch 24/30\n",
            "3s - loss:  1.7870 - mse:  1.7061 - val_mse:  1.8578\n",
            "Epoch 25/30\n",
            "3s - loss:  1.7875 - mse:  1.7058 - val_mse:  1.8562\n",
            "Epoch 26/30\n",
            "3s - loss:  1.7877 - mse:  1.7053 - val_mse:  1.8536\n",
            "Epoch 27/30\n",
            "3s - loss:  1.7870 - mse:  1.7043 - val_mse:  1.8544\n",
            "Epoch 28/30\n",
            "3s - loss:  1.7872 - mse:  1.7034 - val_mse:  1.8564\n",
            "Epoch 29/30\n",
            "3s - loss:  1.7862 - mse:  1.7024 - val_mse:  1.8554\n",
            "Epoch 30/30\n",
            "3s - loss:  1.7869 - mse:  1.7028 - val_mse:  1.8540\n",
            "test MSE 1.8361\n"
          ]
        }
      ]
    },
    {
      "cell_type": "code",
      "metadata": {
        "id": "OBVFHd3JqarT",
        "outputId": "284ea488-2f70-48bf-c04e-2adf12882d1b",
        "colab": {
          "base_uri": "https://localhost:8080/",
          "height": 295
        }
      },
      "source": [
        "#plot training history\n",
        "plt.plot(history.history['mse'])\n",
        "plt.plot(history.history['val_mse'])\n",
        "plt.title('model mse')\n",
        "plt.ylabel('mse')\n",
        "plt.xlabel('epoch')\n",
        "plt.legend(['train', 'val'], loc='upper left')\n",
        "plt.show()"
      ],
      "execution_count": 197,
      "outputs": [
        {
          "output_type": "display_data",
          "data": {
            "image/png": "[encoded data removed]",
            "text/plain": [
              "<Figure size 432x288 with 1 Axes>"
            ]
          },
          "metadata": {
            "needs_background": "light"
          }
        }
      ]
    },
    {
      "cell_type": "markdown",
      "metadata": {
        "id": "OIGx9DiIm42y"
      },
      "source": [
        "# SVD (Surprise)"
      ]
    },
    {
      "cell_type": "code",
      "metadata": {
        "id": "wGpBtiiemsik"
      },
      "source": [
        "from surprise import SVD,SVDpp\n",
        "from surprise import Dataset\n",
        "from surprise import Reader\n",
        "from surprise import accuracy\n",
        "from surprise.model_selection import KFold\n",
        "from surprise.model_selection import GridSearchCV"
      ],
      "execution_count": 35,
      "outputs": []
    },
    {
      "cell_type": "code",
      "metadata": {
        "id": "v3iL7i-Np84D"
      },
      "source": [
        "# split data as for deepFM, evaluate on the same test data\n",
        "train, test = train_test_split(data, test_size=0.2,random_state=666)"
      ],
      "execution_count": null,
      "outputs": []
    },
    {
      "cell_type": "code",
      "metadata": {
        "id": "nQTkz1giQWBZ"
      },
      "source": [
        "# read in data for surprise\n",
        "data_svd = train[['user_id','item_id','rating']]\n",
        "reader = Reader(rating_scale=(0, 10)) # create reader object\n",
        "# The columns must correspond to user id, item id and ratings (in that order).\n",
        "data_svd = Dataset.load_from_df(data_svd[['user_id','item_id','rating']], reader)"
      ],
      "execution_count": 42,
      "outputs": []
    },
    {
      "cell_type": "code",
      "metadata": {
        "id": "0n8x8uVsmpCF",
        "outputId": "64f94e28-60fe-4aac-e104-3f1dd5ae97a5",
        "colab": {
          "base_uri": "https://localhost:8080/",
          "height": 202
        }
      },
      "source": [
        "# using grid search to fine tune hyper parameter\n",
        "param_grid = {'n_factors':[3],'n_epochs': [10],'lr_all': [0.009],'reg_bu': [0.01],'reg_bi': [0.01],\n",
        "              'reg_pu':[0.1],'reg_qi':[0.1],'init_mean':[0.001]} \n",
        "gs = GridSearchCV(SVD, param_grid, measures=['mse'], cv=5,refit=True)\n",
        "gs.fit(data_svd)\n",
        "print(gs.best_score['mse']) # best MSE score\n",
        "\n",
        "\n",
        "#combination of parameters that gave the best MSE score\n",
        "print('best params:',gs.best_params['mse'])\n",
        "results_df = pd.DataFrame.from_dict(gs.cv_results)\n",
        "results_df"
      ],
      "execution_count": 43,
      "outputs": [
        {
          "output_type": "stream",
          "name": "stdout",
          "text": [
            "1.9230167159453437\n",
            "best params: {'n_factors': 3, 'n_epochs': 10, 'lr_all': 0.009, 'reg_bu': 0.01, 'reg_bi': 0.01, 'reg_pu': 0.1, 'reg_qi': 0.1, 'init_mean': 0.001}\n"
          ]
        },
        {
          "output_type": "execute_result",
          "data": {
            "text/html": [
              "<div>\n",
              "<style scoped>\n",
              "    .dataframe tbody tr th:only-of-type {\n",
              "        vertical-align: middle;\n",
              "    }\n",
              "\n",
              "    .dataframe tbody tr th {\n",
              "        vertical-align: top;\n",
              "    }\n",
              "\n",
              "    .dataframe thead th {\n",
              "        text-align: right;\n",
              "    }\n",
              "</style>\n",
              "<table border=\"1\" class=\"dataframe\">\n",
              "  <thead>\n",
              "    <tr style=\"text-align: right;\">\n",
              "      <th></th>\n",
              "      <th>split0_test_mse</th>\n",
              "      <th>split1_test_mse</th>\n",
              "      <th>split2_test_mse</th>\n",
              "      <th>split3_test_mse</th>\n",
              "      <th>split4_test_mse</th>\n",
              "      <th>mean_test_mse</th>\n",
              "      <th>std_test_mse</th>\n",
              "      <th>rank_test_mse</th>\n",
              "      <th>mean_fit_time</th>\n",
              "      <th>std_fit_time</th>\n",
              "      <th>mean_test_time</th>\n",
              "      <th>std_test_time</th>\n",
              "      <th>params</th>\n",
              "      <th>param_n_factors</th>\n",
              "      <th>param_n_epochs</th>\n",
              "      <th>param_lr_all</th>\n",
              "      <th>param_reg_bu</th>\n",
              "      <th>param_reg_bi</th>\n",
              "      <th>param_reg_pu</th>\n",
              "      <th>param_reg_qi</th>\n",
              "      <th>param_init_mean</th>\n",
              "    </tr>\n",
              "  </thead>\n",
              "  <tbody>\n",
              "    <tr>\n",
              "      <th>0</th>\n",
              "      <td>1.911606</td>\n",
              "      <td>1.941405</td>\n",
              "      <td>1.91543</td>\n",
              "      <td>1.915736</td>\n",
              "      <td>1.930906</td>\n",
              "      <td>1.923017</td>\n",
              "      <td>0.011324</td>\n",
              "      <td>1</td>\n",
              "      <td>1.583079</td>\n",
              "      <td>0.029237</td>\n",
              "      <td>0.389035</td>\n",
              "      <td>0.207204</td>\n",
              "      <td>{'n_factors': 3, 'n_epochs': 10, 'lr_all': 0.0...</td>\n",
              "      <td>3</td>\n",
              "      <td>10</td>\n",
              "      <td>0.009</td>\n",
              "      <td>0.01</td>\n",
              "      <td>0.01</td>\n",
              "      <td>0.1</td>\n",
              "      <td>0.1</td>\n",
              "      <td>0.001</td>\n",
              "    </tr>\n",
              "  </tbody>\n",
              "</table>\n",
              "</div>"
            ],
            "text/plain": [
              "   split0_test_mse  split1_test_mse  ...  param_reg_qi  param_init_mean\n",
              "0         1.911606         1.941405  ...           0.1            0.001\n",
              "\n",
              "[1 rows x 21 columns]"
            ]
          },
          "metadata": {},
          "execution_count": 43
        }
      ]
    },
    {
      "cell_type": "code",
      "metadata": {
        "id": "J9OztwYvnizW"
      },
      "source": [
        "test_pred = []\n",
        "for index, row in test.iterrows():\n",
        "  u = row['user_id']\n",
        "  i = row['item_id']\n",
        "  cur_pred = gs.predict(int(u),int(i)).est\n",
        "  test_pred.append(cur_pred)\n",
        "mean_squared_error(test.rating, test_pred)"
      ],
      "execution_count": 51,
      "outputs": []
    }
  ]
}